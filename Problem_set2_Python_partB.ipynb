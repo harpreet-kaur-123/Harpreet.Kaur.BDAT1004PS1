{
 "cells": [
  {
   "cell_type": "markdown",
   "id": "2843e01b",
   "metadata": {},
   "source": [
    "# BDAT 1004 – Data Programming Problem Set 1 (Assignment) Part-B (Python)"
   ]
  },
  {
   "cell_type": "markdown",
   "id": "b7ae4040",
   "metadata": {},
   "source": [
    "# Question 6 Python\n",
    "16. You can turn a word into pig-Latin using the following two rules (simplified):\n",
    "• If the word starts with a consonant, move that letter to the end and append \n",
    "'ay'. For example, 'happy' becomes 'appyhay' and 'pencil' becomes 'encilpay'.\n",
    "• If the word starts with a vowel, simply append 'way' to the end of the word. \n",
    "For example, 'enter' becomes 'enterway' and 'other' becomes 'otherway' . For \n",
    "our purposes, there are 5 vowels: a, e, i, o, u (so we count y as a consonant).\n",
    "Write a function pig() that takes a word (i.e., a string) as input and returns its pig\u0002Latin form. Your function should still work if the input word contains upper case \n",
    "characters. Your output should always be lower case however. \n",
    ">>> pig('happy')\n",
    "'appyhay'\n",
    ">>> pig('Enter')\n",
    "'enterway'"
   ]
  },
  {
   "cell_type": "code",
   "execution_count": 1,
   "id": "ad498a97",
   "metadata": {},
   "outputs": [
    {
     "name": "stdout",
     "output_type": "stream",
     "text": [
      "Convert message to pig latin: amrit\n",
      "amritway\n"
     ]
    }
   ],
   "source": [
    "pigLatin = input(\"Convert message to pig latin: \")\n",
    "wordList = pigLatin.lower().split(\" \")\n",
    "vowels = ['a', 'e', 'i', 'o', 'u']\n",
    "pigLatin = []\n",
    "eachWord = []\n",
    "for word in wordList:\n",
    "    if word[0] in 'aeiou': #case where vowel is first\n",
    "        pigLatin.append(word + 'way')\n",
    "    else:\n",
    "        for letter in word:\n",
    "            if letter in 'aeiou':\n",
    "                pigLatin.append(word[word.index(letter):] + word[:word.index(letter)] +'ay')\n",
    "                break\n",
    "\n",
    "\n",
    "print(\" \".join(pigLatin))"
   ]
  },
  {
   "cell_type": "markdown",
   "id": "7e8dea01",
   "metadata": {},
   "source": [
    "# Question 7 Python\n",
    "File bloodtype1.txt records blood-types of patients (A, B, AB, O or OO) at a clinic. \n",
    "Write a function bldcount() that reads the file with name name and reports (i.e., \n",
    "prints) how many patients there are in each bloodtype.\n",
    ">>> bldcount('bloodtype.txt')\n",
    "There are 10 patients of blood type A.\n",
    "There is one patient of blood type B.\n",
    "There are 10 patients of blood type AB.\n",
    "There are 12 patients of blood type O.\n",
    "There are no patients of blood type OO."
   ]
  },
  {
   "cell_type": "code",
   "execution_count": 22,
   "id": "550e4129",
   "metadata": {},
   "outputs": [
    {
     "name": "stdout",
     "output_type": "stream",
     "text": [
      "There are 13 patients of blood type AB\n",
      "There are 1 patients of blood type B\n",
      "There are 15 patients of blood type O\n",
      "There are 15 patients of blood type A\n"
     ]
    }
   ],
   "source": [
    "# Open the file in read mode\n",
    "def bldcount(file):\n",
    "    text = open(file, \"r\")\n",
    "    # Create an empty dictionary\n",
    "    d = dict()\n",
    "   # Loop through each line of the file\n",
    "    for line in text:\n",
    "      # Remove the leading spaces and newline character\n",
    "        line = line.strip()\n",
    "        # Convert the characters in line to \n",
    "       # lowercase to avoid case mismatch\n",
    "        line = line.lower()\n",
    "       # Split the line into words\n",
    "        words = line.split(\" \")\n",
    "      # Iterate over each word in line\n",
    "        for word in words:\n",
    "            # Check if the word is already in dictionary\n",
    "            if word in d:\n",
    "                # Increment count of word by 1\n",
    "                d[word] = d[word] + 1\n",
    "            else:\n",
    "     # Add the word to dictionary with count 1\n",
    "                d[word] = 1\n",
    "  \n",
    " # Print the contents of dictionary\n",
    "    for key in list(d.keys()):\n",
    "        print(\"There are\",d[key], \"patients of blood type\", key.upper())\n",
    "\n",
    "bldcount('bloodtype.txt')"
   ]
  },
  {
   "cell_type": "markdown",
   "id": "eb1ccd52",
   "metadata": {},
   "source": [
    "# Question 8 Python\n",
    "Write a function curconv() that takes as input:\n",
    "1. a currency represented using a string (e.g., 'JPY' for the Japanese Yen or \n",
    "'EUR' for the Euro)\n",
    "2. an amount\n",
    "and then converts and returns the amount in US dollars.\n",
    ">>> curconv('EUR', 100)\n",
    "122.96544\n",
    ">>> curconv('JPY', 100)\n",
    "1.241401\n",
    "\n",
    "The currency rates you will need are stored in file currencies.txt:\n",
    "AUD 1.0345157 Australian Dollar\n",
    "CHF 1.0237414 Swiss Franc\n",
    "CNY 0.1550176 Chinese Yuan\n",
    "DKK 0.1651442 Danish Krone\n",
    "EUR 1.2296544 Euro\n",
    "GBP 1.5550989 British Pound\n",
    "HKD 0.1270207 Hong Kong Dollar\n",
    "INR 0.0177643 Indian Rupee\n",
    "JPY 0.01241401 Japanese Yen\n",
    "MXN 0.0751848 Mexican Peso\n",
    "MYR 0.3145411 Malaysian Ringgit\n",
    "NOK 0.1677063 Norwegian Krone\n",
    "NZD 0.8003591 New Zealand Dollar\n",
    "PHP 0.0233234 Philippine Peso\n",
    "SEK 0.148269 Swedish Krona\n",
    "SGD 0.788871 Singapore Dollar\n",
    "THB 0.0313789 Thai Baht\n"
   ]
  },
  {
   "cell_type": "code",
   "execution_count": 17,
   "id": "f26ba3eb",
   "metadata": {},
   "outputs": [
    {
     "name": "stdout",
     "output_type": "stream",
     "text": [
      "122.96544\n",
      "16.514419999999998\n"
     ]
    }
   ],
   "source": [
    "# opening a text file\n",
    "file1 = open(\"currencies.txt\", \"r\")\n",
    "\n",
    "def curconv(string1, amount):\n",
    "    flag = 0\n",
    "    index = 0\n",
    "    file = open('currencies.txt')\n",
    "    for line in file1:  \n",
    "        index += 1 \n",
    "        if string1 in line:\n",
    "\n",
    "            flag = 1\n",
    "            break \n",
    "\n",
    "    new_index = index-1;\n",
    "    content = file.readlines()\n",
    "    data = content[new_index].split()  \n",
    "    currency_rate = data[1]\n",
    "    #amount = amount / from_currency\n",
    "    final = float(amount)*float(currency_rate)\n",
    "    return final\n",
    "\n",
    "result = curconv('EUR', 100)\n",
    "print(result)\n",
    "\n",
    "result = curconv('JPY', 100)\n",
    "print(result)"
   ]
  },
  {
   "cell_type": "markdown",
   "id": "374de2c6",
   "metadata": {},
   "source": [
    "# Question 9 Python\n",
    "Each of the following will cause an exception (an error). Identify what type of \n",
    "exception each will cause.\n",
    "Trying to add incompatible variables, as in \n",
    "adding 6 + ‘a’\n",
    "Referring to the 12th item of a list that has only 10 \n",
    "items\n",
    "Using a value that is out of range for a function’s \n",
    "input, such as calling math.sqrt(-1.0)\n",
    "Using an undeclared variable, such as print(x)\n",
    "when x has not been defined \n",
    "Trying to open a file that does not exist, such as \n",
    "mistyping the file name or looking in the wrong \n",
    "directory"
   ]
  },
  {
   "cell_type": "code",
   "execution_count": 5,
   "id": "9e905dda",
   "metadata": {},
   "outputs": [
    {
     "ename": "TypeError",
     "evalue": "unsupported operand type(s) for +: 'int' and 'str'",
     "output_type": "error",
     "traceback": [
      "\u001b[1;31m---------------------------------------------------------------------------\u001b[0m",
      "\u001b[1;31mTypeError\u001b[0m                                 Traceback (most recent call last)",
      "\u001b[1;32m~\\AppData\\Local\\Temp/ipykernel_23088/1678765637.py\u001b[0m in \u001b[0;36m<module>\u001b[1;34m\u001b[0m\n\u001b[1;32m----> 1\u001b[1;33m \u001b[0mprint\u001b[0m\u001b[1;33m(\u001b[0m\u001b[1;36m6\u001b[0m\u001b[1;33m+\u001b[0m\u001b[1;34m'a'\u001b[0m\u001b[1;33m)\u001b[0m\u001b[1;33m\u001b[0m\u001b[1;33m\u001b[0m\u001b[0m\n\u001b[0m",
      "\u001b[1;31mTypeError\u001b[0m: unsupported operand type(s) for +: 'int' and 'str'"
     ]
    }
   ],
   "source": [
    "print(6+'a')"
   ]
  },
  {
   "cell_type": "code",
   "execution_count": 12,
   "id": "12e544c7",
   "metadata": {},
   "outputs": [
    {
     "name": "stdout",
     "output_type": "stream",
     "text": [
      "two\n"
     ]
    },
    {
     "ename": "IndexError",
     "evalue": "list index out of range",
     "output_type": "error",
     "traceback": [
      "\u001b[1;31m---------------------------------------------------------------------------\u001b[0m",
      "\u001b[1;31mIndexError\u001b[0m                                Traceback (most recent call last)",
      "\u001b[1;32m~\\AppData\\Local\\Temp/ipykernel_23088/129066153.py\u001b[0m in \u001b[0;36m<module>\u001b[1;34m\u001b[0m\n\u001b[0;32m      1\u001b[0m \u001b[0mNumbers\u001b[0m \u001b[1;33m=\u001b[0m \u001b[1;33m[\u001b[0m\u001b[1;34m\"one\"\u001b[0m\u001b[1;33m,\u001b[0m \u001b[1;34m\"two\"\u001b[0m\u001b[1;33m,\u001b[0m \u001b[1;34m\"three\"\u001b[0m\u001b[1;33m,\u001b[0m\u001b[1;34m\"four\"\u001b[0m\u001b[1;33m,\u001b[0m\u001b[1;34m\"five\"\u001b[0m\u001b[1;33m,\u001b[0m\u001b[1;34m\"six\"\u001b[0m\u001b[1;33m,\u001b[0m\u001b[1;34m\"seven\"\u001b[0m\u001b[1;33m,\u001b[0m\u001b[1;34m\"eight\"\u001b[0m\u001b[1;33m,\u001b[0m\u001b[1;34m\"nine\"\u001b[0m\u001b[1;33m,\u001b[0m\u001b[1;34m\"ten\"\u001b[0m\u001b[1;33m]\u001b[0m\u001b[1;33m\u001b[0m\u001b[1;33m\u001b[0m\u001b[0m\n\u001b[0;32m      2\u001b[0m \u001b[0mprint\u001b[0m\u001b[1;33m(\u001b[0m\u001b[0mNumbers\u001b[0m\u001b[1;33m[\u001b[0m\u001b[1;36m1\u001b[0m\u001b[1;33m]\u001b[0m\u001b[1;33m)\u001b[0m\u001b[1;33m\u001b[0m\u001b[1;33m\u001b[0m\u001b[0m\n\u001b[1;32m----> 3\u001b[1;33m \u001b[0mprint\u001b[0m\u001b[1;33m(\u001b[0m\u001b[0mNumbers\u001b[0m\u001b[1;33m[\u001b[0m\u001b[1;36m12\u001b[0m\u001b[1;33m]\u001b[0m\u001b[1;33m)\u001b[0m\u001b[1;33m\u001b[0m\u001b[1;33m\u001b[0m\u001b[0m\n\u001b[0m",
      "\u001b[1;31mIndexError\u001b[0m: list index out of range"
     ]
    }
   ],
   "source": [
    "Numbers = [\"one\", \"two\", \"three\",\"four\",\"five\",\"six\",\"seven\",\"eight\",\"nine\",\"ten\"]\n",
    "print(Numbers[1])\n",
    "print(Numbers[12])"
   ]
  },
  {
   "cell_type": "code",
   "execution_count": 8,
   "id": "2d47f613",
   "metadata": {},
   "outputs": [
    {
     "ename": "NameError",
     "evalue": "name 'math' is not defined",
     "output_type": "error",
     "traceback": [
      "\u001b[1;31m---------------------------------------------------------------------------\u001b[0m",
      "\u001b[1;31mNameError\u001b[0m                                 Traceback (most recent call last)",
      "\u001b[1;32m~\\AppData\\Local\\Temp/ipykernel_23088/2508052996.py\u001b[0m in \u001b[0;36m<module>\u001b[1;34m\u001b[0m\n\u001b[1;32m----> 1\u001b[1;33m \u001b[0mmath\u001b[0m\u001b[1;33m.\u001b[0m\u001b[0msqrt\u001b[0m\u001b[1;33m(\u001b[0m\u001b[1;33m-\u001b[0m\u001b[1;36m1.0\u001b[0m\u001b[1;33m)\u001b[0m\u001b[1;33m\u001b[0m\u001b[1;33m\u001b[0m\u001b[0m\n\u001b[0m",
      "\u001b[1;31mNameError\u001b[0m: name 'math' is not defined"
     ]
    }
   ],
   "source": [
    "math.sqrt(-1.0)"
   ]
  },
  {
   "cell_type": "code",
   "execution_count": 9,
   "id": "b8802328",
   "metadata": {
    "scrolled": true
   },
   "outputs": [
    {
     "ename": "NameError",
     "evalue": "name 'x' is not defined",
     "output_type": "error",
     "traceback": [
      "\u001b[1;31m---------------------------------------------------------------------------\u001b[0m",
      "\u001b[1;31mNameError\u001b[0m                                 Traceback (most recent call last)",
      "\u001b[1;32m~\\AppData\\Local\\Temp/ipykernel_23088/1353120783.py\u001b[0m in \u001b[0;36m<module>\u001b[1;34m\u001b[0m\n\u001b[1;32m----> 1\u001b[1;33m \u001b[0mprint\u001b[0m\u001b[1;33m(\u001b[0m\u001b[0mx\u001b[0m\u001b[1;33m)\u001b[0m\u001b[1;33m\u001b[0m\u001b[1;33m\u001b[0m\u001b[0m\n\u001b[0m",
      "\u001b[1;31mNameError\u001b[0m: name 'x' is not defined"
     ]
    }
   ],
   "source": [
    "print(x)"
   ]
  },
  {
   "cell_type": "code",
   "execution_count": 10,
   "id": "80e4485e",
   "metadata": {},
   "outputs": [
    {
     "ename": "FileNotFoundError",
     "evalue": "[Errno 2] No such file or directory: 'happy.txt'",
     "output_type": "error",
     "traceback": [
      "\u001b[1;31m---------------------------------------------------------------------------\u001b[0m",
      "\u001b[1;31mFileNotFoundError\u001b[0m                         Traceback (most recent call last)",
      "\u001b[1;32m~\\AppData\\Local\\Temp/ipykernel_23088/594370750.py\u001b[0m in \u001b[0;36m<module>\u001b[1;34m\u001b[0m\n\u001b[0;32m      1\u001b[0m \u001b[1;31m#Trying to open a file that does not exist\u001b[0m\u001b[1;33m\u001b[0m\u001b[1;33m\u001b[0m\u001b[0m\n\u001b[1;32m----> 2\u001b[1;33m \u001b[0mopen\u001b[0m\u001b[1;33m(\u001b[0m\u001b[1;34m\"happy.txt\"\u001b[0m\u001b[1;33m,\u001b[0m \u001b[1;34m\"r\"\u001b[0m\u001b[1;33m)\u001b[0m\u001b[1;33m\u001b[0m\u001b[1;33m\u001b[0m\u001b[0m\n\u001b[0m",
      "\u001b[1;31mFileNotFoundError\u001b[0m: [Errno 2] No such file or directory: 'happy.txt'"
     ]
    }
   ],
   "source": [
    "#Trying to open a file that does not exist\n",
    "open(\"happy.txt\", \"r\")"
   ]
  },
  {
   "cell_type": "markdown",
   "id": "96496d42",
   "metadata": {},
   "source": [
    "# Question 10 Python\n",
    "Encryption is the process of hiding the meaning of a text by substituting letters in the \n",
    "message with other letters, according to some system. If the process is successful, no \n",
    "one but the intended recipient can understand the encrypted message. Cryptanalysis\n",
    "refers to attempts to undo the encryption, even if some details of the encryption are \n",
    "unknown (for example, if an encrypted message has been intercepted). The first step \n",
    "of cryptanalysis is often to build up a table of letter frequencies in the encrypted text. \n",
    "Assume that the string letters is already defined as \n",
    "'abcdefghijklmnopqrstuvwxyz'. Write a function called frequencies()\n",
    "that takes a string as its only parameter, and returns a list of integers, showing the \n",
    "number of times each character appears in the text. Your function may ignore any \n",
    "characters that are not in letters. \n",
    ">>> frequencies('The quick red fox got bored and went home.')\n",
    "[1, 1, 1, 3, 5, 1, 1, 2, 1, 0, 1, 0, 1, 2, 4, 0, 1, 2, 0, 2, \n",
    "1, 0, 1, 1, 0, 0]\n",
    ">>> frequencies('apple')"
   ]
  },
  {
   "cell_type": "code",
   "execution_count": 2,
   "id": "071aaab3",
   "metadata": {},
   "outputs": [
    {
     "name": "stdout",
     "output_type": "stream",
     "text": [
      "{'a': 1, 'b': 1, 'c': 1, 'd': 3, 'e': 5, 'f': 1, 'g': 1, 'h': 2, 'i': 1, 'j': 0, 'k': 1, 'l': 0, 'm': 1, 'n': 2, 'o': 4, 'p': 0, 'q': 1, 'r': 2, 's': 0, 't': 2, 'u': 1, 'v': 0, 'w': 1, 'x': 1, 'y': 0, 'z': 0}\n",
      "\n",
      "\n",
      "{'a': 1, 'b': 0, 'c': 0, 'd': 0, 'e': 1, 'f': 0, 'g': 0, 'h': 0, 'i': 0, 'j': 0, 'k': 0, 'l': 1, 'm': 0, 'n': 0, 'o': 0, 'p': 2, 'q': 0, 'r': 0, 's': 0, 't': 0, 'u': 0, 'v': 0, 'w': 0, 'x': 0, 'y': 0, 'z': 0}\n"
     ]
    }
   ],
   "source": [
    "from collections import Counter \n",
    "\n",
    "def frequencies(pass_string):\n",
    "  letters = [\"a\",\"b\",\"c\",\"d\",\"e\",\"f\",\"g\",\"h\",\"i\",\"j\",\"k\",\"l\",\"m\",\"n\",\"o\",\"p\",\"q\",\"r\",\"s\",\"t\",\"u\",\"v\",\"w\",\"x\",\"y\",\"z\"]\n",
    "  chars_in_string = Counter(pass_string)\n",
    "  res = {}\n",
    "  for letter in letters:\n",
    "    if(letter in chars_in_string):\n",
    "      res[letter] = chars_in_string[letter]\n",
    "    else: \n",
    "      res[letter] = 0 \n",
    "  return(res)\n",
    "  \n",
    "result1 = frequencies(\"The quick red fox got bored and went home.\")\n",
    "print(result1)\n",
    "print(\"\\n\")\n",
    "result2 = frequencies(\"apple\")\n",
    "print(result2)\n"
   ]
  },
  {
   "cell_type": "markdown",
   "id": "a9af93fe",
   "metadata": {},
   "source": [
    "# Reference list\n",
    "#https://pencilprogrammer.com/python-programs/convert-sentence-to-pig-latin/#:~:text=Here's%20how%20it%20works%3A%20First,a%20word%20in%20Pig%20Latin.\n",
    "#https://stackoverflow.com/questions/40985203/counting-letter-frequency-in-a-string-python/40985309\n",
    "#https://stackoverflow.com/questions/51508664/python-pig-latin-converter-words-that-start-with-consonants\n",
    "#https://www.w3schools.com/python/python_file_handling.asp\n",
    "#https://www.w3schools.com/python/python_lists_access.asp"
   ]
  }
 ],
 "metadata": {
  "kernelspec": {
   "display_name": "Python 3 (ipykernel)",
   "language": "python",
   "name": "python3"
  },
  "language_info": {
   "codemirror_mode": {
    "name": "ipython",
    "version": 3
   },
   "file_extension": ".py",
   "mimetype": "text/x-python",
   "name": "python",
   "nbconvert_exporter": "python",
   "pygments_lexer": "ipython3",
   "version": "3.9.7"
  }
 },
 "nbformat": 4,
 "nbformat_minor": 5
}
