{
 "cells": [
  {
   "cell_type": "markdown",
   "id": "23d58222",
   "metadata": {},
   "source": [
    "# BDAT 1004 – Data Programming\n",
    "# Problem Set 1 (Assignment) Part-A (C#)"
   ]
  },
  {
   "cell_type": "markdown",
   "id": "87162c77",
   "metadata": {},
   "source": [
    "# Question 1 (C#)\n",
    "What data type is each of the following?\n",
    "5 \n",
    "5.0\n",
    "5 > 1\n",
    "'5'\n",
    "5 * 2\n",
    "'5' * 2\n",
    "'5' + '2'\n",
    "5 / 2\n",
    "5 % 2 {5, 2, 1}\n",
    "5 == 3\n",
    "Pi (the number)\n"
   ]
  },
  {
   "cell_type": "code",
   "execution_count": 68,
   "id": "8fc8bd2a",
   "metadata": {},
   "outputs": [
    {
     "name": "stdout",
     "output_type": "stream",
     "text": [
      "System.Int32\n",
      "System.Double\n",
      "System.Boolean\n",
      "System.Char\n",
      "System.Int32\n",
      "System.Int32\n",
      "System.Int32\n",
      "System.Int32\n",
      "System.Int32\n",
      "System.Boolean\n",
      "System.Double\n",
      "--------------\n",
      "System.Int32\n",
      "System.Int32\n",
      "System.Int32\n"
     ]
    }
   ],
   "source": [
    "Type tp1 = 5.GetType();\n",
    "Type tp2 = 5.0.GetType();\n",
    "Type tp3 = (5 > 1).GetType();\n",
    "Type tp4 = ('5').GetType();\n",
    "Type tp5 = (5*2).GetType();\n",
    "Type tp6 = ('5' * 2).GetType();\n",
    "Type tp7 = ('5' + '2').GetType();\n",
    "Type tp8 = (5 / 2).GetType();\n",
    "Type tp9 = (5 % 2).GetType();\n",
    "Type tp10 = (5 == 3).GetType();\n",
    "Type tp11 = (3.14).GetType();\n",
    "\n",
    "// Printing the values of variabes \n",
    "Console.WriteLine(tp1);\n",
    "Console.WriteLine(tp2);\n",
    "Console.WriteLine(tp3);\n",
    "Console.WriteLine(tp4);\n",
    "Console.WriteLine(tp5);\n",
    "Console.WriteLine(tp6);\n",
    "Console.WriteLine(tp7);\n",
    "Console.WriteLine(tp8);\n",
    "Console.WriteLine(tp9);\n",
    "Console.WriteLine(tp10);\n",
    "Console.WriteLine(tp11);\n",
    "Console.WriteLine(\"--------------\");\n",
    "int[] items =new int[]{5,2,1};\n",
    "            foreach\t(int i in items)\n",
    "            {\n",
    "                Type tp12 =i.GetType();\n",
    "                System.Console.WriteLine(\"{0}\",tp12);\n",
    "            }\n"
   ]
  },
  {
   "cell_type": "markdown",
   "id": "5e6ed289",
   "metadata": {},
   "source": [
    "# Question 2 (C#)\n",
    "Write (and evaluate) C# expressions that answer these questions:\n",
    "a. How many letters are there in 'Supercalifragilisticexpialidocious'?\n",
    "    \n",
    "b. Does 'Supercalifragilisticexpialidocious' contain 'ice' as a substring?\n",
    "    \n",
    "c. Which of the following words is the longest: \n",
    "Supercalifragilisticexpialidocious, Honorificabilitudinitatibus, or \n",
    "Bababadalgharaghtakamminarronnkonn? \n",
    "    \n",
    "d. Which composer comes first in the dictionary: 'Berlioz', 'Borodin', 'Brian', \n",
    "'Bartok', 'Bellini', 'Buxtehude', 'Bernstein'. Which one comes last?    "
   ]
  },
  {
   "cell_type": "code",
   "execution_count": 25,
   "id": "846ef37f",
   "metadata": {},
   "outputs": [
    {
     "name": "stdout",
     "output_type": "stream",
     "text": [
      "The name Supercalifragilisticexpialidocious contains 34 letters.\n",
      "True\n",
      "Bababadalgharaghtakamminarronnkonn\n",
      "Berlioz\n",
      "Bernstein\n"
     ]
    }
   ],
   "source": [
    "// checking the length of a string\n",
    "string name = \"Supercalifragilisticexpialidocious\";\n",
    "int nameLength = name.Length;\n",
    "Console.WriteLine(\"The name \" + name + \" contains \" + nameLength + \" letters.\");\n",
    "\n",
    "// checking substring sub_name(substring)  is present in name(string) or not\n",
    "string sub_name=\"ice\";\n",
    "Boolean result=name.Contains(sub_name);\n",
    "Console.WriteLine(result);\n",
    "\n",
    "// compare strings\n",
    "string a = \"Supercalifragilisticexpialidocious\";\n",
    "string b = \"Honorificabilitudinitatibus\";\n",
    "string c = \"Bababadalgharaghtakamminarronnkonn\";\n",
    "if (a.Length > b.Length && a.Length > c.Length)\n",
    "{\n",
    "\n",
    "    Console.WriteLine(a);\n",
    "}\n",
    "else if (b.Length > c.Length)\n",
    "{\n",
    "    Console.WriteLine(b);\n",
    "}\n",
    "else\n",
    "{\n",
    "    Console.WriteLine(c);\n",
    "}\n",
    "\n",
    "\n",
    "//first and last word in a composer\n",
    "List<string> composer = new List<string>() {\"Berlioz\", \"Borodin\", \"Brian\", \n",
    "\"Bartok\", \"Bellini\", \"Buxtehude\", \"Bernstein\"};\n",
    "var first = composer.First();\n",
    "var last = composer.Last();\n",
    "Console.WriteLine(first);\n",
    "Console.WriteLine(last);"
   ]
  },
  {
   "cell_type": "markdown",
   "id": "5d8765b0",
   "metadata": {},
   "source": [
    "# Question 3 (C#)\n",
    "Implement function triangleArea(a,b,c) that takes as input the lengths of the 3\n",
    "sides of a triangle and returns the area of the triangle. By Heron's formula, the area \n",
    "of a triangle with side lengths a, b, and c is sqrt(s(s - a)(s -b)(s -c)) , where s = (a+b+c)/2.\n",
    ">>> triangleArea(2,2,2)\n",
    "1.7320508075688772"
   ]
  },
  {
   "cell_type": "code",
   "execution_count": 50,
   "id": "6c427dc6",
   "metadata": {},
   "outputs": [
    {
     "name": "stdout",
     "output_type": "stream",
     "text": [
      "Value of side1 = 2, side2 = 2, and side2 = 2\n",
      "Area of a Triangle = 1.7320508075688772"
     ]
    }
   ],
   "source": [
    " int side1 = 2, side2 = 2, side3 = 2;\n",
    "        Console.WriteLine($\"Value of side1 = {side1}, side2 = {side2}, and side2 = {side2}\");\n",
    "        double semiperimeter = (side1 + side2 + side3) / 2;\n",
    "        double Area = Math.Sqrt(semiperimeter * (semiperimeter - side1) * (semiperimeter - side2) * (semiperimeter - side3));\n",
    "        Console.Write(\"Area of a Triangle = \" + Area);\n"
   ]
  },
  {
   "cell_type": "markdown",
   "id": "87310bc4",
   "metadata": {},
   "source": [
    "# Question 4(C#)\n",
    "Write a program in C# Sharp to separate odd and even integers in separate arrays. \n",
    "Go to the editor\n",
    "Test Data :\n",
    "Input the number of elements to be stored in the array :5\n",
    "Input 5 elements in the array :\n",
    "element - 0 : 25\n",
    "element - 1 : 47\n",
    "element - 2 : 42\n",
    "element - 3 : 56\n",
    "element - 4 : 32\n",
    "Expected Output:\n",
    "The Even elements are:\n",
    "42 56 32\n",
    "The Odd elements are :\n",
    "25 47"
   ]
  },
  {
   "cell_type": "code",
   "execution_count": 4,
   "id": "3d5d1e9f",
   "metadata": {},
   "outputs": [
    {
     "name": "stdout",
     "output_type": "stream",
     "text": [
      "\n",
      "\n",
      "Separate odd and even integers in separate arrays:\n",
      "------------------------------------------------------\n",
      "\n",
      "The Even elements are : \n",
      "42 56 32 \n",
      "The Odd elements are :\n",
      "25 47 \n",
      "\n"
     ]
    }
   ],
   "source": [
    "int[] arr1 = new int[10];\n",
    "        int[] arr2 = new int[10];\n",
    "        int[] arr3 = new int[10];\n",
    "        int i, j = 0, k = 0, n;\n",
    "\n",
    "\n",
    "        Console.Write(\"\\n\\nSeparate odd and even integers in separate arrays:\\n\");\n",
    "        Console.Write(\"------------------------------------------------------\\n\");\n",
    "\n",
    "        n = 5;\n",
    "        arr1[0] = 25;\n",
    "        arr1[1] = 47;\n",
    "        arr1[2] = 42;\n",
    "        arr1[3] = 56;\n",
    "        arr1[4] = 32;\n",
    "\n",
    "        for (i = 0; i < n; i++)\n",
    "        {\n",
    "            if (arr1[i] % 2 == 0)\n",
    "            {\n",
    "                arr2[j] = arr1[i];\n",
    "                j++;\n",
    "            }\n",
    "            else\n",
    "            {\n",
    "                arr3[k] = arr1[i];\n",
    "                k++;\n",
    "            }\n",
    "        }\n",
    "\n",
    "        Console.Write(\"\\nThe Even elements are : \\n\");\n",
    "        for (i = 0; i < j; i++)\n",
    "        {\n",
    "            Console.Write(\"{0} \", arr2[i]);\n",
    "        }\n",
    "\n",
    "        Console.Write(\"\\nThe Odd elements are :\\n\");\n",
    "        for (i = 0; i < k; i++)\n",
    "        {\n",
    "            Console.Write(\"{0} \", arr3[i]);\n",
    "        }\n",
    "        Console.Write(\"\\n\\n\");"
   ]
  },
  {
   "cell_type": "markdown",
   "id": "ae2bde66",
   "metadata": {},
   "source": [
    "# Question 5 (C#)\n",
    "a. Write a function inside(x,y,x1,y1,x2,y2) that returns True or False \n",
    "depending on whether the point (x,y) lies in the rectangle with lower left \n",
    "corner (x1,y1) and upper right corner (x2,y2).\n",
    ">>> inside(1,1,0,0,2,3)\n",
    "True\n",
    ">>> inside(-1,-1,0,0,2,3)\n",
    "False\n",
    "\n",
    "b. Use function inside() from part a. to write an expression that tests whether \n",
    "the point (1,1) lies in both of the following rectangles: one with lower left \n",
    "corner (0.3, 0.5) and upper right corner (1.1, 0.7) and the other with lower \n",
    "left corner (0.5, 0.2) and upper right corner (1.1, 2)"
   ]
  },
  {
   "cell_type": "code",
   "execution_count": 24,
   "id": "2e7d3a83",
   "metadata": {},
   "outputs": [
    {
     "name": "stdout",
     "output_type": "stream",
     "text": [
      "True"
     ]
    }
   ],
   "source": [
    "// Question 5a. Part 1 inside 1,1,0,0,2,3)--True\n",
    "Boolean inside(int x1, int y1, int x2,int y2, int x, int y)\n",
    "    {\n",
    "        if (x > x1 && x < x2 &&\n",
    "            y > y1 && y < y2)\n",
    "            return true;\n",
    "\n",
    "        return false;\n",
    "    }\n",
    "int x1 = 0, y1 = 0,x2 = 2, y2 = 3;\n",
    "int x = 1, y = 1;\n",
    "\n",
    "// function call\n",
    "if (inside(x1, y1, x2, y2, x, y))\n",
    "Console.Write(\"True\");\n",
    "else\n",
    "Console.Write(\"False\");"
   ]
  },
  {
   "cell_type": "code",
   "execution_count": 13,
   "id": "90fef4c0",
   "metadata": {},
   "outputs": [
    {
     "name": "stdout",
     "output_type": "stream",
     "text": [
      "False"
     ]
    }
   ],
   "source": [
    "// Question 5a. Part 2 inside -1,-1,0,0,2,3)--False\n",
    "Boolean inside(int x1, int y1, int x2,int y2, int x, int y)\n",
    "    {\n",
    "        if (x > x1 && x < x2 &&\n",
    "            y > y1 && y < y2)\n",
    "            return true;\n",
    "\n",
    "        return false;\n",
    "    }\n",
    "int x1 = 0, y1 = 0,x2 = 2, y2 = 3;\n",
    "int x = -1, y = -1;\n",
    "\n",
    "// function call\n",
    "if (inside(x1, y1, x2, y2, x, y))\n",
    "Console.Write(\"True\");\n",
    "else\n",
    "Console.Write(\"False\");"
   ]
  },
  {
   "cell_type": "markdown",
   "id": "2335b275",
   "metadata": {},
   "source": [
    " b. Use function inside() from part a. to write an expression that tests whether the point (1,1) lies in both of the following rectangles: one with lower left corner (0.3, 0.5) and upper right corner (1.1, 0.7) and the other with lower left corner (0.5, 0.2) and upper right corner (1.1, 2)"
   ]
  },
  {
   "cell_type": "code",
   "execution_count": 25,
   "id": "ed016730",
   "metadata": {},
   "outputs": [
    {
     "name": "stdout",
     "output_type": "stream",
     "text": [
      "False"
     ]
    }
   ],
   "source": [
    "\n",
    "// Question 5b. Part 1 (one with lower left corner (0.3, 0.5) and upper right corner (1.1, 0.7)) \n",
    "Boolean inside(double x1, double y1, double x2,double y2, int x, int y)\n",
    "    {\n",
    "        if (x > x1 && x < x2 &&\n",
    "            y > y1 && y < y2)\n",
    "            return true;\n",
    "\n",
    "        return false;\n",
    "    }\n",
    "double x1 = 0.3, y1 = 0.5,x2 = 1.1, y2 = 0.7;\n",
    "int x = 1, y = 1;\n",
    "\n",
    "// function call\n",
    "if (inside(x1, y1, x2, y2, x, y))\n",
    "Console.Write(\"True\");\n",
    "else\n",
    "Console.Write(\"False\");"
   ]
  },
  {
   "cell_type": "code",
   "execution_count": 22,
   "id": "c047addd",
   "metadata": {},
   "outputs": [
    {
     "name": "stdout",
     "output_type": "stream",
     "text": [
      "True"
     ]
    }
   ],
   "source": [
    "//Question 5b. Part 2 (the other with lower left corner (0.5, 0.2) and upper right corner (1.1, 2))\n",
    "Boolean inside(double x1, double y1, double x2,double y2, int x, int y)\n",
    "    {\n",
    "        if (x > x1 && x < x2 &&\n",
    "            y > y1 && y < y2)\n",
    "            return true;\n",
    "\n",
    "        return false;\n",
    "    }\n",
    "double x1 = 0.5, y1 = 0.2,x2 = 1.1, y2 = 2;\n",
    "int x = 1, y = 1;\n",
    "\n",
    "// function call\n",
    "if (inside(x1, y1, x2, y2, x, y))\n",
    "Console.Write(\"True\");\n",
    "else\n",
    "Console.Write(\"False\");"
   ]
  },
  {
   "cell_type": "markdown",
   "id": "ec7e5de2",
   "metadata": {},
   "source": [
    "# Reference list\n",
    "//http://www.net-informations.com/q/faq/type.html\n",
    "//https://syntaxdb.com/ref/csharp/string-length\n",
    "//https://www.tutorialkart.com/c-sharp-tutorial/c-sharp-string-contains/\n",
    "//https://www.codegrepper.com/code-examples/csharp/get+first+and+last+item+list+c%23\n",
    "//https://stackoverflow.com/questions/64665111/how-to-print-the-longest-of-three-strings#:~:text=%7D%20if%20(s3.-,length()%20%3E%20longest.,println(longest)%3B\n",
    "//https://dotnettutorials.net/lesson/area-of-triangle-csharp/"
   ]
  }
 ],
 "metadata": {
  "kernelspec": {
   "display_name": ".NET (C#)",
   "language": "C#",
   "name": ".net-csharp"
  },
  "language_info": {
   "file_extension": ".cs",
   "mimetype": "text/x-csharp",
   "name": "C#",
   "pygments_lexer": "csharp",
   "version": "8.0"
  }
 },
 "nbformat": 4,
 "nbformat_minor": 5
}
